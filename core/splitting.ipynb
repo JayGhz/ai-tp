{
 "cells": [
  {
   "cell_type": "code",
   "execution_count": 1,
   "id": "d3ec81c7",
   "metadata": {},
   "outputs": [],
   "source": [
    "import pandas as pd\n",
    "import numpy as np\n",
    "from sklearn.model_selection import train_test_split\n",
    "from sklearn.preprocessing import StandardScaler\n",
    "\n",
    "from imblearn.over_sampling import SMOTE # Adding this for smote [not compatible with sklearn version] (changing to compatible version in requirements.txt)\n",
    "from sklearn.metrics import precision_recall_curve\n",
    "\n",
    "df = pd.read_csv(\"./data/preprocessed_data.csv\")"
   ]
  },
  {
   "cell_type": "code",
   "execution_count": 2,
   "id": "a8dfebd0",
   "metadata": {},
   "outputs": [],
   "source": [
    "cols_to_drop = [\"fraud_bool\", \"month\", \"x1\", \"x2\"]\n",
    "X = df.drop(columns=cols_to_drop)\n",
    "y = df[\"fraud_bool\"]"
   ]
  },
  {
   "cell_type": "code",
   "execution_count": 3,
   "id": "6ddada95",
   "metadata": {},
   "outputs": [],
   "source": [
    "# Identificar variables categóricas\n",
    "cat_cols = X.select_dtypes(include=\"object\").columns\n",
    "\n",
    "# Aplicar one-hot encoding\n",
    "X = pd.get_dummies(X, columns=cat_cols, drop_first=True)"
   ]
  },
  {
   "cell_type": "code",
   "execution_count": 4,
   "id": "59eb19ae",
   "metadata": {},
   "outputs": [],
   "source": [
    "# División temporal: entrenamiento de 0–5, testing de 6–7\n",
    "df_train = df[df[\"month\"] <= 5]\n",
    "df_test = df[df[\"month\"] >= 6]\n",
    "\n",
    "X_train = df_train.drop(columns=cols_to_drop)\n",
    "X_test = df_test.drop(columns=cols_to_drop)\n",
    "\n",
    "y_train = df_train[\"fraud_bool\"]\n",
    "y_test = df_test[\"fraud_bool\"]\n",
    "\n",
    "# One-hot encoding (aplicado a ambos)\n",
    "X_train = pd.get_dummies(X_train, drop_first=True)\n",
    "X_test = pd.get_dummies(X_test, drop_first=True)\n",
    "\n",
    "# Alinear columnas entre train y test\n",
    "X_train, X_test = X_train.align(X_test, join=\"left\", axis=1, fill_value=0)\n"
   ]
  },
  {
   "cell_type": "code",
   "execution_count": 5,
   "id": "8c070ded",
   "metadata": {},
   "outputs": [],
   "source": [
    "scaler = StandardScaler()\n",
    "\n",
    "X_train_scaled = scaler.fit_transform(X_train)\n",
    "X_test_scaled = scaler.transform(X_test)"
   ]
  },
  {
   "cell_type": "code",
   "execution_count": 6,
   "id": "f3099a82",
   "metadata": {},
   "outputs": [],
   "source": [
    "np.save(\"./data/X_train_scaled.npy\", X_train_scaled)\n",
    "np.save(\"./data/X_test_scaled.npy\", X_test_scaled)\n",
    "np.save(\"./data/y_train.npy\", y_train.to_numpy())\n",
    "np.save(\"./data/y_test.npy\", y_test.to_numpy())\n"
   ]
  },
  {
   "cell_type": "code",
   "execution_count": 7,
   "id": "7dd030ba",
   "metadata": {},
   "outputs": [
    {
     "name": "stdout",
     "output_type": "stream",
     "text": [
      "Distribución original: [749950   8378]\n",
      "Distribución después de SMOTE: [749950 224985]\n"
     ]
    }
   ],
   "source": [
    "# Implementing the files of smote\n",
    "# [1][auto] -> Increase the number of frauds to an acceptable level [now in ≈1%]\n",
    "# [2][0.3] -> Trying to increase the numbers of the training model\n",
    "smote = SMOTE(random_state=42, sampling_strategy=0.3)\n",
    "X_train_smote, y_train_smote = smote.fit_resample(X_train_scaled, y_train)\n",
    "\n",
    "print(f\"Distribución original: {np.bincount(y_train)}\")\n",
    "print(f\"Distribución después de SMOTE: {np.bincount(y_train_smote)}\")\n",
    "\n",
    "np.save('./data/X_train_smote.npy', X_train_smote)\n",
    "np.save('./data/y_train_smote.npy', y_train_smote)"
   ]
  }
 ],
 "metadata": {
  "kernelspec": {
   "display_name": "venv311",
   "language": "python",
   "name": "python3"
  },
  "language_info": {
   "codemirror_mode": {
    "name": "ipython",
    "version": 3
   },
   "file_extension": ".py",
   "mimetype": "text/x-python",
   "name": "python",
   "nbconvert_exporter": "python",
   "pygments_lexer": "ipython3",
   "version": "3.11.13"
  }
 },
 "nbformat": 4,
 "nbformat_minor": 5
}
