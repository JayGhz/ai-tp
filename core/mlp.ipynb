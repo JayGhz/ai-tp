{
 "cells": [
  {
   "cell_type": "code",
   "execution_count": 31,
   "id": "74daa9e2",
   "metadata": {},
   "outputs": [],
   "source": [
    "import numpy as np\n",
    "import torch\n",
    "import torch.nn as nn\n",
    "import torch.nn.functional as F\n",
    "import os\n",
    "\n",
    "from torch.utils.data import DataLoader, TensorDataset\n",
    "from sklearn.metrics import f1_score, roc_auc_score, precision_score, recall_score, classification_report\n",
    "import matplotlib.pyplot as plt"
   ]
  },
  {
   "cell_type": "code",
   "execution_count": 22,
   "id": "444585e6",
   "metadata": {},
   "outputs": [],
   "source": [
    "X_train = np.load(\"./data/X_train_scaled.npy\")\n",
    "X_test = np.load(\"./data/X_test_scaled.npy\")\n",
    "y_train = np.load(\"./data/y_train.npy\")\n",
    "y_test = np.load(\"./data/y_test.npy\")\n",
    "\n",
    "# Tensores\n",
    "X_train_tensor = torch.tensor(X_train, dtype=torch.float32)\n",
    "y_train_tensor = torch.tensor(y_train, dtype=torch.float32)\n",
    "\n",
    "X_test_tensor = torch.tensor(X_test, dtype=torch.float32)\n",
    "y_test_tensor = torch.tensor(y_test, dtype=torch.float32)\n",
    "\n",
    "train_dataset = TensorDataset(X_train_tensor, y_train_tensor)\n",
    "test_dataset = TensorDataset(X_test_tensor, y_test_tensor)\n",
    "\n",
    "train_loader = DataLoader(train_dataset, batch_size=512, shuffle=True)\n",
    "test_loader = DataLoader(test_dataset, batch_size=512, shuffle=False)"
   ]
  },
  {
   "cell_type": "code",
   "execution_count": 23,
   "id": "595d4ebe",
   "metadata": {},
   "outputs": [],
   "source": [
    "class FocalLoss(nn.Module):\n",
    "    def __init__(self, alpha=0.25, gamma=2.0, reduction=\"mean\"):\n",
    "        super(FocalLoss, self).__init__()\n",
    "        self.alpha = alpha\n",
    "        self.gamma = gamma\n",
    "        self.reduction = reduction\n",
    "\n",
    "    def forward(self, inputs, targets):\n",
    "        BCE_loss = F.binary_cross_entropy_with_logits(inputs, targets, reduction=\"none\")\n",
    "        pt = torch.exp(-BCE_loss)\n",
    "        loss = self.alpha * (1 - pt) ** self.gamma * BCE_loss\n",
    "\n",
    "        if self.reduction == \"mean\":\n",
    "            return loss.mean()\n",
    "        elif self.reduction == \"sum\":\n",
    "            return loss.sum()\n",
    "        return loss"
   ]
  },
  {
   "cell_type": "code",
   "execution_count": 24,
   "id": "5b5b3a1a",
   "metadata": {},
   "outputs": [],
   "source": [
    "class MLP(nn.Module):\n",
    "    def __init__(self, input_dim):\n",
    "        super(MLP, self).__init__()\n",
    "        self.net = nn.Sequential(\n",
    "            nn.Linear(input_dim, 128),\n",
    "            nn.ReLU(),\n",
    "            nn.BatchNorm1d(128),\n",
    "            nn.Dropout(0.3),\n",
    "            nn.Linear(128, 64),\n",
    "            nn.ReLU(),\n",
    "            nn.BatchNorm1d(64),\n",
    "            nn.Dropout(0.3),\n",
    "            nn.Linear(64, 1)\n",
    "        )\n",
    "\n",
    "    def forward(self, x):\n",
    "        return self.net(x).squeeze(1)"
   ]
  },
  {
   "cell_type": "code",
   "execution_count": 25,
   "id": "fa22f821",
   "metadata": {},
   "outputs": [],
   "source": [
    "def train_model(model, loss_fn, optimizer, n_epochs=20):\n",
    "    model.train()\n",
    "    history = []\n",
    "    for epoch in range(n_epochs):\n",
    "        total_loss = 0\n",
    "        for X_batch, y_batch in train_loader:\n",
    "            optimizer.zero_grad()\n",
    "            outputs = model(X_batch)\n",
    "            loss = loss_fn(outputs, y_batch)\n",
    "            loss.backward()\n",
    "            optimizer.step()\n",
    "            total_loss += loss.item()\n",
    "        avg_loss = total_loss / len(train_loader)\n",
    "        history.append(avg_loss)\n",
    "        print(f\"Epoch {epoch+1}/{n_epochs} - Loss: {avg_loss:.4f}\")\n",
    "    return history"
   ]
  },
  {
   "cell_type": "code",
   "execution_count": 26,
   "id": "4cdb7822",
   "metadata": {},
   "outputs": [
    {
     "name": "stdout",
     "output_type": "stream",
     "text": [
      "Epoch 1/20 - Loss: 0.0077\n",
      "Epoch 2/20 - Loss: 0.0038\n",
      "Epoch 3/20 - Loss: 0.0037\n",
      "Epoch 4/20 - Loss: 0.0036\n",
      "Epoch 5/20 - Loss: 0.0036\n",
      "Epoch 6/20 - Loss: 0.0036\n",
      "Epoch 7/20 - Loss: 0.0035\n",
      "Epoch 8/20 - Loss: 0.0035\n",
      "Epoch 9/20 - Loss: 0.0035\n",
      "Epoch 10/20 - Loss: 0.0035\n",
      "Epoch 11/20 - Loss: 0.0035\n",
      "Epoch 12/20 - Loss: 0.0035\n",
      "Epoch 13/20 - Loss: 0.0035\n",
      "Epoch 14/20 - Loss: 0.0034\n",
      "Epoch 15/20 - Loss: 0.0034\n",
      "Epoch 16/20 - Loss: 0.0034\n",
      "Epoch 17/20 - Loss: 0.0034\n",
      "Epoch 18/20 - Loss: 0.0034\n",
      "Epoch 19/20 - Loss: 0.0034\n",
      "Epoch 20/20 - Loss: 0.0034\n"
     ]
    }
   ],
   "source": [
    "input_dim = X_train.shape[1]\n",
    "model = MLP(input_dim)\n",
    "\n",
    "loss_fn = FocalLoss(alpha=0.25, gamma=2)\n",
    "optimizer = torch.optim.Adam(model.parameters(), lr=1e-3)\n",
    "\n",
    "history = train_model(model, loss_fn, optimizer, n_epochs=20)"
   ]
  },
  {
   "cell_type": "code",
   "execution_count": 27,
   "id": "9cd7260a",
   "metadata": {},
   "outputs": [
    {
     "name": "stdout",
     "output_type": "stream",
     "text": [
      "              precision    recall  f1-score   support\n",
      "\n",
      "           0     0.9891    1.0000    0.9945    239020\n",
      "           1     0.7059    0.0045    0.0090      2652\n",
      "\n",
      "    accuracy                         0.9891    241672\n",
      "   macro avg     0.8475    0.5023    0.5017    241672\n",
      "weighted avg     0.9860    0.9891    0.9837    241672\n",
      "\n",
      "AUC: 0.8712324271443739\n"
     ]
    }
   ],
   "source": [
    "model.eval()\n",
    "with torch.no_grad():\n",
    "    y_pred_logits = model(X_test_tensor)\n",
    "    y_pred = torch.sigmoid(y_pred_logits).numpy()\n",
    "    y_pred_labels = (y_pred >= 0.5).astype(int)\n",
    "\n",
    "print(classification_report(y_test, y_pred_labels, digits=4))\n",
    "print(\"AUC:\", roc_auc_score(y_test, y_pred))"
   ]
  },
  {
   "cell_type": "code",
   "execution_count": null,
   "id": "57b77d62",
   "metadata": {},
   "outputs": [
    {
     "data": {
      "image/png": "[encoded data removed]",
      "text/plain": [
       "<Figure size 640x480 with 1 Axes>"
      ]
     },
     "metadata": {},
     "output_type": "display_data"
    }
   ],
   "source": [
    "plt.plot(history)\n",
    "plt.title(\"Training Loss\")\n",
    "plt.xlabel(\"Epoch\")\n",
    "plt.ylabel(\"Loss\")\n",
    "plt.grid(True)\n",
    "plt.show()"
   ]
  },
  {
   "cell_type": "code",
   "execution_count": 32,
   "id": "685743b2",
   "metadata": {},
   "outputs": [],
   "source": [
    "os.makedirs(\"./models\", exist_ok=True)\n",
    "torch.save(model.state_dict(), \"./models/mlp_model.pth\")"
   ]
  }
 ],
 "metadata": {
  "kernelspec": {
   "display_name": "venv311",
   "language": "python",
   "name": "python3"
  },
  "language_info": {
   "codemirror_mode": {
    "name": "ipython",
    "version": 3
   },
   "file_extension": ".py",
   "mimetype": "text/x-python",
   "name": "python",
   "nbconvert_exporter": "python",
   "pygments_lexer": "ipython3",
   "version": "3.11.13"
  }
 },
 "nbformat": 4,
 "nbformat_minor": 5
}
