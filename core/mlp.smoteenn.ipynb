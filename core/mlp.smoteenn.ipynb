{
 "cells": [
  {
   "cell_type": "code",
   "execution_count": 1,
   "id": "74daa9e2",
   "metadata": {},
   "outputs": [],
   "source": [
    "import os\n",
    "import torch\n",
    "import numpy as np\n",
    "import torch.nn as nn\n",
    "import matplotlib.pyplot as plt\n",
    "import torch.nn.functional as F\n",
    "from torch.utils.data import DataLoader, TensorDataset\n",
    "from sklearn.metrics import roc_auc_score, classification_report, precision_recall_curve"
   ]
  },
  {
   "cell_type": "code",
   "execution_count": 2,
   "id": "444585e6",
   "metadata": {},
   "outputs": [],
   "source": [
    "training_variant = 'smoteenn'  # 'smote' | 'smoteenn' para el otro\n",
    "\n",
    "if training_variant == 'smote':\n",
    "    X_train = np.load('./data/X_train_smote.npy')\n",
    "    y_train = np.load('./data/y_train_smote.npy')\n",
    "    model_save_path = './models/mlp_smote.pth'\n",
    "else:\n",
    "    X_train = np.load('./data/X_train_smoteenn.npy')\n",
    "    y_train = np.load('./data/y_train_smoteenn.npy')\n",
    "    model_save_path = './models/mlp_smoteenn.pth'\n",
    "\n",
    "X_test = np.load(\"./data/X_test_scaled.npy\")\n",
    "y_test = np.load(\"./data/y_test.npy\")\n",
    "\n",
    "# Tensores\n",
    "X_train_tensor = torch.tensor(X_train, dtype=torch.float32)\n",
    "y_train_tensor = torch.tensor(y_train, dtype=torch.float32)\n",
    "\n",
    "X_test_tensor = torch.tensor(X_test, dtype=torch.float32)\n",
    "y_test_tensor = torch.tensor(y_test, dtype=torch.float32)\n",
    "\n",
    "train_dataset = TensorDataset(X_train_tensor, y_train_tensor)\n",
    "test_dataset = TensorDataset(X_test_tensor, y_test_tensor)\n",
    "\n",
    "train_loader = DataLoader(train_dataset, batch_size=512, shuffle=True)\n",
    "test_loader = DataLoader(test_dataset, batch_size=512, shuffle=False)"
   ]
  },
  {
   "cell_type": "code",
   "execution_count": 3,
   "id": "595d4ebe",
   "metadata": {},
   "outputs": [],
   "source": [
    "class FocalLoss(nn.Module):\n",
    "    def __init__(self, alpha=0.25, gamma=2.0, reduction=\"mean\"):\n",
    "        super(FocalLoss, self).__init__()\n",
    "        self.alpha = alpha\n",
    "        self.gamma = gamma\n",
    "        self.reduction = reduction\n",
    "\n",
    "    def forward(self, inputs, targets):\n",
    "        BCE_loss = F.binary_cross_entropy_with_logits(inputs, targets, reduction=\"none\")\n",
    "        pt = torch.exp(-BCE_loss)\n",
    "        loss = self.alpha * (1 - pt) ** self.gamma * BCE_loss\n",
    "\n",
    "        if self.reduction == \"mean\":\n",
    "            return loss.mean()\n",
    "        elif self.reduction == \"sum\":\n",
    "            return loss.sum()\n",
    "        return loss"
   ]
  },
  {
   "cell_type": "code",
   "execution_count": 4,
   "id": "5b5b3a1a",
   "metadata": {},
   "outputs": [],
   "source": [
    "class MLP(nn.Module):\n",
    "  def __init__(self, input_dim):\n",
    "    super(MLP, self).__init__()\n",
    "    self.net = nn.Sequential( #? Added\n",
    "      nn.Linear(input_dim, 256),\n",
    "      nn.ReLU(),\n",
    "      nn.BatchNorm1d(256),\n",
    "      nn.Dropout(0.3),\n",
    "\n",
    "      nn.Linear(256, 128),\n",
    "      nn.ReLU(),\n",
    "      nn.BatchNorm1d(128),\n",
    "      nn.Dropout(0.3),\n",
    "\n",
    "      nn.Linear(128, 64),\n",
    "      nn.ReLU(),\n",
    "      nn.BatchNorm1d(64),\n",
    "      nn.Dropout(0.3),\n",
    "\n",
    "      nn.Linear(64, 1)\n",
    "    )\n",
    "  def forward(self, x):\n",
    "    return self.net(x).squeeze(1)"
   ]
  },
  {
   "cell_type": "code",
   "execution_count": 5,
   "id": "fa22f821",
   "metadata": {},
   "outputs": [],
   "source": [
    "def train_model(model, loss_fn, optimizer, n_epochs=20, patience=3): #? Changing in test\n",
    "  model.train()\n",
    "  best_loss = float('inf') #? Added\n",
    "  wait = 0\n",
    "  history = []\n",
    "\n",
    "  for epoch in range(n_epochs):\n",
    "    total_loss = 0\n",
    "    for X_batch, y_batch in train_loader:\n",
    "      optimizer.zero_grad()\n",
    "      outputs = model(X_batch)\n",
    "      loss = loss_fn(outputs, y_batch)\n",
    "      loss.backward()\n",
    "      optimizer.step()\n",
    "      total_loss += loss.item()\n",
    "\n",
    "    avg_loss = total_loss / len(train_loader)\n",
    "    history.append(avg_loss)\n",
    "    print(f\"Epoch {epoch+1}/{n_epochs} - Loss: {avg_loss:.4f}\")\n",
    "\n",
    "    if avg_loss < best_loss - 1e-4: #? Added\n",
    "      best_loss = avg_loss \n",
    "      wait = 0\n",
    "    else:\n",
    "      wait += 1\n",
    "      if wait >= patience:\n",
    "        print(\"Early stopping\")\n",
    "        break\n",
    "  return history"
   ]
  },
  {
   "cell_type": "code",
   "execution_count": 6,
   "id": "4cdb7822",
   "metadata": {},
   "outputs": [
    {
     "name": "stdout",
     "output_type": "stream",
     "text": [
      "Epoch 1/20 - Loss: 0.0194\n",
      "Epoch 2/20 - Loss: 0.0156\n",
      "Epoch 3/20 - Loss: 0.0141\n",
      "Epoch 4/20 - Loss: 0.0131\n",
      "Epoch 5/20 - Loss: 0.0124\n",
      "Epoch 6/20 - Loss: 0.0119\n",
      "Epoch 7/20 - Loss: 0.0115\n",
      "Epoch 8/20 - Loss: 0.0112\n",
      "Epoch 9/20 - Loss: 0.0109\n",
      "Epoch 10/20 - Loss: 0.0106\n",
      "Epoch 11/20 - Loss: 0.0104\n",
      "Epoch 12/20 - Loss: 0.0102\n",
      "Epoch 13/20 - Loss: 0.0101\n",
      "Epoch 14/20 - Loss: 0.0099\n",
      "Epoch 15/20 - Loss: 0.0098\n",
      "Epoch 16/20 - Loss: 0.0097\n",
      "Epoch 17/20 - Loss: 0.0096\n",
      "Epoch 18/20 - Loss: 0.0095\n",
      "Epoch 19/20 - Loss: 0.0095\n",
      "Epoch 20/20 - Loss: 0.0094\n"
     ]
    }
   ],
   "source": [
    "input_dim = X_train.shape[1]\n",
    "model = MLP(input_dim)\n",
    "\n",
    "loss_fn = FocalLoss(alpha=0.25, gamma=2)\n",
    "optimizer = torch.optim.Adam(model.parameters(), lr=1e-3)\n",
    "\n",
    "history = train_model(model, loss_fn, optimizer, n_epochs=20)\n",
    "\n",
    "# Mas perdida por que detecta mas casos en el proceso de entramiento debido al smote"
   ]
  },
  {
   "cell_type": "code",
   "execution_count": 7,
   "id": "9cd7260a",
   "metadata": {},
   "outputs": [
    {
     "name": "stdout",
     "output_type": "stream",
     "text": [
      "              precision    recall  f1-score   support\n",
      "\n",
      "           0     0.9913    0.9863    0.9888    239020\n",
      "           1     0.1509    0.2202    0.1791      2652\n",
      "\n",
      "    accuracy                         0.9778    241672\n",
      "   macro avg     0.5711    0.6032    0.5839    241672\n",
      "weighted avg     0.9821    0.9778    0.9799    241672\n",
      "\n",
      "AUC: 0.8392422795923979\n"
     ]
    }
   ],
   "source": [
    "model.eval()\n",
    "with torch.no_grad():\n",
    "  y_pred_logits = model(X_test_tensor)\n",
    "  y_pred = torch.sigmoid(y_pred_logits).cpu().numpy() #? Changed if using c|uda\n",
    "  \n",
    "  #? Added in this test\n",
    "  precisions, recalls, thresholds = precision_recall_curve(y_test, y_pred)\n",
    "  f1s = 2 * (precisions * recalls) / (precisions + recalls + 1e-8)\n",
    "  best_hreshold = thresholds[np.argmax(f1s)]\n",
    "  threshold = best_hreshold\n",
    "\n",
    "  y_pred_labels = (y_pred >= best_hreshold).astype(int)\n",
    "\n",
    "print(classification_report(y_test, y_pred_labels, digits=4))\n",
    "print(\"AUC:\", roc_auc_score(y_test, y_pred))"
   ]
  },
  {
   "cell_type": "code",
   "execution_count": 8,
   "id": "57b77d62",
   "metadata": {},
   "outputs": [
    {
     "data": {
      "image/png": "[encoded data removed]",
      "text/plain": [
       "<Figure size 640x480 with 1 Axes>"
      ]
     },
     "metadata": {},
     "output_type": "display_data"
    }
   ],
   "source": [
    "plt.plot(history)\n",
    "plt.title(\"Training Loss\")\n",
    "plt.xlabel(\"Epoch\")\n",
    "plt.ylabel(\"Loss\")\n",
    "plt.grid(True)\n",
    "plt.show()\n",
    "os.makedirs(\"./plots\", exist_ok=True)\n",
    "plt.show()"
   ]
  },
  {
   "cell_type": "code",
   "execution_count": 9,
   "id": "685743b2",
   "metadata": {},
   "outputs": [],
   "source": [
    "os.makedirs(\"./models\", exist_ok=True)\n",
    "torch.save(model.state_dict(), model_save_path)"
   ]
  }
 ],
 "metadata": {
  "kernelspec": {
   "display_name": "venv311",
   "language": "python",
   "name": "python3"
  },
  "language_info": {
   "codemirror_mode": {
    "name": "ipython",
    "version": 3
   },
   "file_extension": ".py",
   "mimetype": "text/x-python",
   "name": "python",
   "nbconvert_exporter": "python",
   "pygments_lexer": "ipython3",
   "version": "3.11.13"
  }
 },
 "nbformat": 4,
 "nbformat_minor": 5
}
