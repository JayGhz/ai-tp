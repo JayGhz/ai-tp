{
 "cells": [
  {
   "cell_type": "code",
   "execution_count": null,
   "metadata": {},
   "outputs": [
    {
     "name": "stdout",
     "output_type": "stream",
     "text": [
      "----------------------------------------------------------------------------------------------------------------------------------------------------------------------------------------------------------------------------------------------------------------------------------------\n",
      "   fraud_bool  income  name_email_similarity  prev_address_months_count  current_address_months_count  customer_age  days_since_request  intended_balcon_amount payment_type  zip_count_4w  velocity_6h  velocity_24h  velocity_4w  bank_branch_count_8w  date_of_birth_distinct_emails_4w employment_status  credit_risk_score  email_is_free housing_status  phone_home_valid  phone_mobile_valid  bank_months_count  has_other_cards  proposed_credit_limit  foreign_request    source  session_length_in_minutes device_os  keep_alive_session  device_distinct_emails_8w  device_fraud_count  month        x1        x2\n",
      "0           0     0.1               0.244166                        214                             3            50           20.662310               15.930899           AA          1922  9333.076951   5633.318710  5950.091624                    11                                 2                CA                131              1             BC                 0                   1                 10                0                  200.0                0  INTERNET                   8.513914     linux                   1                          1                   0      0 -0.600198 -0.296015\n",
      "1           0     0.8               0.035690                         -1                           242            50            6.134627               20.574086           AA          4614  8360.855068   4825.632888  6711.142697                     2                                 7                CA                 43              0             BE                 1                   0                 28                0                  200.0                0  INTERNET                   4.399087   windows                   1                          1                   0      0 -1.406937  2.136468\n",
      "2           0     0.9               0.030506                         -1                            95            50            0.001012               -0.591869           AA          1231  1345.896623   4970.691033  4941.150902                    33                                 2                CC                258              0             BA                 1                   1                 30                0                 1000.0                0  INTERNET                   6.989680     linux                   0                          1                   0      0 -0.688785  0.686640\n",
      "3           0     0.9               0.840711                         -1                           105            60            0.012292              106.800603           AA          1874  6299.614264   6564.003817  6300.931977                    41                                 4                CA                126              0             BC                 1                   1                  4                1                 1500.0                0  INTERNET                  50.544274     linux                   0                          1                   0      0 -0.865885 -2.078178\n",
      "4           0     0.7               0.275118                         -1                           374            60            1.081235               -0.365989           AD          5070  9170.708398   7021.570083  6655.351345                    10                                 2                CB                 88              1             BC                 1                   0                 30                0                  200.0                0  INTERNET                   4.847442     linux                   1                          1                   0      0 -0.339504 -2.032053\n",
      "5           0     0.2               0.050167                         47                             3            30            0.024126               -1.143260           AB           993  7567.708362   3888.547714  6313.107723                    27                                 6                CB                125              0             BC                 1                   0                  1                0                  200.0                0  INTERNET                   4.749616   windows                   1                          1                   0      0  0.687881  0.049857\n",
      "6           0     0.6               0.677910                         -1                           156            60            0.009720               25.957328           AA          1034  6184.916921   3588.503649  6312.873143                     2                                 4                CC                109              0             BC                 1                   1                 15                0                  200.0                0  INTERNET                   9.048998     other                   1                          1                   0      0 -0.247875 -0.452767\n",
      "7           0     0.3               0.895229                         -1                           138            60            0.002793               -1.141485           AB          1575   869.049984   3296.112800  6006.718952                     1                                17                CB                207              1             BA                 0                   1                  1                0                 1500.0                0  INTERNET                   2.585590   windows                   1                          1                   0      0 -1.603919  0.018444\n",
      "8           0     0.1               0.508060                         -1                           186            70            0.008305               -1.490042           AD          3897  7413.971478   4379.124002  6375.321900                    10                                 6                CA                 70              0             BA                 0                   1                  2                0                  200.0                0  INTERNET                   4.704880   windows                   1                          1                   0      0  0.358797  0.561485\n",
      "9           0     0.8               0.394482                         -1                            38            50            0.014582               -1.390899           AD          3191  8703.698585   6035.214865  6035.514438                    22                                 3                CB                 74              0             BB                 1                   1                 25                0                  200.0                0  INTERNET                   5.360208     other                   1                          1                   0      0  1.940952  1.085609\n",
      "----------------------------------------------------------------------------------------------------------------------------------------------------------------------------------------------------------------------------------------------------------------------------------------\n"
     ]
    }
   ],
   "source": [
    "import pandas as pd\n",
    "import json\n",
    "import os\n",
    "\n",
    "df = pd.read_csv('./data/Variant V.csv', nrows=1000)\n",
    "\n",
    "print(\"-\" * 280)\n",
    "print(df.head(10).to_string())\n",
    "print(\"-\" * 280)"
   ]
  },
  {
   "cell_type": "code",
   "execution_count": null,
   "metadata": {},
   "outputs": [
    {
     "name": "stdout",
     "output_type": "stream",
     "text": [
      "Archivo creado exitosamente con estructura de árbol binario.\n"
     ]
    }
   ],
   "source": [
    "nodes = []\n",
    "for idx in range(len(df)):\n",
    "    node_id = str(idx + 1)\n",
    "    nodes.append({\n",
    "        \"id\": node_id,\n",
    "        \"name\": f\"Transaccion con id {node_id}\"\n",
    "    })\n",
    "\n",
    "links = []\n",
    "num_nodes = len(nodes)\n",
    "for i in range(num_nodes):\n",
    "    left = 2 * i + 1\n",
    "    right = 2 * i + 2\n",
    "    if left < num_nodes:\n",
    "        links.append({\n",
    "            \"source\": str(i + 1),\n",
    "            \"target\": str(left + 1)\n",
    "        })\n",
    "    if right < num_nodes:\n",
    "        links.append({\n",
    "            \"source\": str(i + 1),\n",
    "            \"target\": str(right + 1)\n",
    "        })\n",
    "\n",
    "graph = {\n",
    "    \"nodes\": nodes,\n",
    "    \"links\": links\n",
    "}\n",
    "\n",
    "# Crear directorio si no existe\n",
    "os.makedirs(\"web\", exist_ok=True)\n",
    "\n",
    "# Guardar en web/nodes.json\n",
    "with open('./web/public/nodes.json', 'w') as f:\n",
    "    json.dump(graph, f, indent=4)\n",
    "\n",
    "print(\"Archivo creado exitosamente con estructura de árbol binario.\")"
   ]
  }
 ],
 "metadata": {
  "kernelspec": {
   "display_name": "env",
   "language": "python",
   "name": "python3"
  },
  "language_info": {
   "codemirror_mode": {
    "name": "ipython",
    "version": 3
   },
   "file_extension": ".py",
   "mimetype": "text/x-python",
   "name": "python",
   "nbconvert_exporter": "python",
   "pygments_lexer": "ipython3",
   "version": "3.12.7"
  }
 },
 "nbformat": 4,
 "nbformat_minor": 2
}
