{
 "cells": [
  {
   "cell_type": "code",
   "execution_count": 5,
   "metadata": {},
   "outputs": [],
   "source": [
    "import pandas as pd\n",
    "import json\n",
    "\n",
    "# Cargar el dataset\n",
    "df = pd.read_csv('./data/Variant V.csv')\n",
    "\n",
    "# Asegurarse de que 'fraud_bool' está presente\n",
    "assert 'fraud_bool' in df.columns\n",
    "\n",
    "# === Análisis EDA ===\n",
    "\n",
    "# 1. Distribución de fraude\n",
    "fraud_counts = df['fraud_bool'].value_counts().to_dict()\n",
    "fraud_data = [{'label': 'Legit', 'value': fraud_counts.get(0, 0)},\n",
    "              {'label': 'Fraud', 'value': fraud_counts.get(1, 0)}]\n",
    "\n",
    "# 2. Ingreso promedio: fraude vs no fraude\n",
    "income_data = df.groupby('fraud_bool')['income'].mean().to_dict()\n",
    "income_data = [\n",
    "    {'label': 'Legit', 'value': round(income_data.get(0, 0), 2)},\n",
    "    {'label': 'Fraud', 'value': round(income_data.get(1, 0), 2)}\n",
    "]\n",
    "\n",
    "# 3. Distribución por estado laboral (top 5)\n",
    "employment = df[df['employment_status'].notna()]\n",
    "top_employment = employment['employment_status'].value_counts().nlargest(5).index.tolist()\n",
    "employment_data = (\n",
    "    employment[employment['employment_status'].isin(top_employment)]\n",
    "    .groupby(['employment_status'])['fraud_bool']\n",
    "    .mean()\n",
    "    .reset_index()\n",
    ")\n",
    "employment_chart = [\n",
    "    {'label': row['employment_status'], 'value': round(row['fraud_bool'] * 100, 2)}\n",
    "    for _, row in employment_data.iterrows()\n",
    "]\n",
    "\n",
    "# 4. Velocidad de solicitudes en 6h: fraude vs no fraude\n",
    "velocity_data = df.groupby('fraud_bool')['velocity_6h'].mean().to_dict()\n",
    "velocity_chart = [\n",
    "    {'label': 'Legit', 'value': round(velocity_data.get(0, 0), 2)},\n",
    "    {'label': 'Fraud', 'value': round(velocity_data.get(1, 0), 2)}\n",
    "]\n",
    "\n",
    "# === Exportar a JSON ===\n",
    "eda_output = {\n",
    "    'fraud_distribution': fraud_data,\n",
    "    'income_by_fraud': income_data,\n",
    "    'fraud_rate_by_employment': employment_chart,\n",
    "    'avg_velocity_6h': velocity_chart\n",
    "}\n",
    "\n",
    "# Guardar como JSON\n",
    "with open('../web/public/eda.json', 'w') as f:\n",
    "    json.dump(eda_output, f, indent=2)\n"
   ]
  }
 ],
 "metadata": {
  "kernelspec": {
   "display_name": "Python 3",
   "language": "python",
   "name": "python3"
  },
  "language_info": {
   "codemirror_mode": {
    "name": "ipython",
    "version": 3
   },
   "file_extension": ".py",
   "mimetype": "text/x-python",
   "name": "python",
   "nbconvert_exporter": "python",
   "pygments_lexer": "ipython3",
   "version": "3.12.7"
  }
 },
 "nbformat": 4,
 "nbformat_minor": 2
}
